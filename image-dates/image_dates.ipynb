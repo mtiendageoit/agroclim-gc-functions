{
 "cells": [
  {
   "cell_type": "code",
   "execution_count": 1,
   "metadata": {},
   "outputs": [],
   "source": [
    "import ee\n",
    "import json\n",
    "\n",
    "# ee.Authenticate(force=True) #To force auth with token\n",
    "ee.Authenticate()\n",
    "ee.Initialize(project='agroclim-prj')"
   ]
  },
  {
   "cell_type": "code",
   "execution_count": 2,
   "metadata": {},
   "outputs": [],
   "source": [
    "from_date = '2023-05-22'\n",
    "to_date = '2024-05-27'\n",
    "image_collection = 'COPERNICUS/S2_HARMONIZED'\n",
    "\n",
    "coords = [[-98.26885651222914,20.08287441044847],[-98.2682882680227,20.082710859216974],[-98.26764899329048,20.082523635887156],[-98.26714719699531,20.082364388281192],[-98.26688598796494,20.082274004432847],[-98.26745423217136,20.081727396239103],[-98.26778249004391,20.08144061497957],[-98.26789784930703,20.081324321585925],[-98.26796887983285,20.081251153227157],[-98.26803716514688,20.081089801060102],[-98.26812725720866,20.08087826303904],[-98.26831486723297,20.080226792617538],[-98.26886019836668,20.0784287653169],[-98.26981322144074,20.078792903421814],[-98.27070686775541,20.079116641803154],[-98.26958663046148,20.08130185838756],[-98.26885651222914,20.08287441044847]]"
   ]
  },
  {
   "cell_type": "code",
   "execution_count": 3,
   "metadata": {},
   "outputs": [],
   "source": [
    "def get_info(image):\n",
    "  date = ee.Date(image.get('system:time_start')).format('dd/MM/yyyy')\n",
    "  cloudy = ee.Number(image.get('CLOUDY_PIXEL_PERCENTAGE'))\n",
    "  return {'date': date, 'cloudy': cloudy.format('%.0f')}"
   ]
  },
  {
   "cell_type": "code",
   "execution_count": null,
   "metadata": {},
   "outputs": [],
   "source": [
    "roi = ee.Geometry.Polygon(coords)\n",
    "\n",
    "collection = (ee.ImageCollection(image_collection)\n",
    "              .filterBounds(roi)\n",
    "              .filterDate(from_date, to_date))\n",
    "\n",
    "# image = collection.first()\n",
    "# print( image.getInfo())\n",
    "\n",
    "images = collection.toList(collection.size()).map(lambda image: get_info(ee.Image(image)))\n",
    "\n",
    "response = json.dumps(images.getInfo())\n",
    "\n",
    "response"
   ]
  }
 ],
 "metadata": {
  "kernelspec": {
   "display_name": "venv",
   "language": "python",
   "name": "python3"
  },
  "language_info": {
   "codemirror_mode": {
    "name": "ipython",
    "version": 3
   },
   "file_extension": ".py",
   "mimetype": "text/x-python",
   "name": "python",
   "nbconvert_exporter": "python",
   "pygments_lexer": "ipython3",
   "version": "3.12.4"
  }
 },
 "nbformat": 4,
 "nbformat_minor": 2
}
