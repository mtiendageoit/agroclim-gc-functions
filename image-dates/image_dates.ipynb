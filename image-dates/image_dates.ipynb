{
 "cells": [
  {
   "cell_type": "code",
   "execution_count": 1,
   "metadata": {},
   "outputs": [],
   "source": [
    "import ee\n",
    "import json\n",
    "\n",
    "# ee.Authenticate(force=True) #To force auth with token\n",
    "ee.Authenticate()\n",
    "ee.Initialize(project='agroclim-prj')"
   ]
  },
  {
   "cell_type": "code",
   "execution_count": 2,
   "metadata": {},
   "outputs": [],
   "source": [
    "from_date = '2023-05-22'\n",
    "to_date = '2024-05-27'\n",
    "image_collection = 'COPERNICUS/S2_HARMONIZED'\n",
    "\n",
    "coords = [[-98.26885651222914,20.08287441044847],[-98.2682882680227,20.082710859216974],[-98.26764899329048,20.082523635887156],[-98.26714719699531,20.082364388281192],[-98.26688598796494,20.082274004432847],[-98.26745423217136,20.081727396239103],[-98.26778249004391,20.08144061497957],[-98.26789784930703,20.081324321585925],[-98.26796887983285,20.081251153227157],[-98.26803716514688,20.081089801060102],[-98.26812725720866,20.08087826303904],[-98.26831486723297,20.080226792617538],[-98.26886019836668,20.0784287653169],[-98.26981322144074,20.078792903421814],[-98.27070686775541,20.079116641803154],[-98.26958663046148,20.08130185838756],[-98.26885651222914,20.08287441044847]]"
   ]
  },
  {
   "cell_type": "code",
   "execution_count": 4,
   "metadata": {},
   "outputs": [],
   "source": [
    "def get_info(image):\n",
    "  date = ee.Date(image.get('system:time_start')).format('yyyy-MM-dd')\n",
    "  cloudy = ee.Number(image.get('CLOUDY_PIXEL_PERCENTAGE'))\n",
    "  return {'date': date, 'cloudy': cloudy.format('%.0f')}"
   ]
  },
  {
   "cell_type": "code",
   "execution_count": 5,
   "metadata": {},
   "outputs": [
    {
     "data": {
      "text/plain": [
       "'[{\"cloudy\": \"24\", \"date\": \"2023-05-26\"}, {\"cloudy\": \"25\", \"date\": \"2023-05-31\"}, {\"cloudy\": \"33\", \"date\": \"2023-06-05\"}, {\"cloudy\": \"7\", \"date\": \"2023-06-10\"}, {\"cloudy\": \"0\", \"date\": \"2023-06-15\"}, {\"cloudy\": \"1\", \"date\": \"2023-06-20\"}, {\"cloudy\": \"61\", \"date\": \"2023-06-25\"}, {\"cloudy\": \"63\", \"date\": \"2023-06-30\"}, {\"cloudy\": \"50\", \"date\": \"2023-07-05\"}, {\"cloudy\": \"44\", \"date\": \"2023-07-10\"}, {\"cloudy\": \"12\", \"date\": \"2023-07-15\"}, {\"cloudy\": \"6\", \"date\": \"2023-07-20\"}, {\"cloudy\": \"37\", \"date\": \"2023-07-25\"}, {\"cloudy\": \"82\", \"date\": \"2023-07-30\"}, {\"cloudy\": \"51\", \"date\": \"2023-08-04\"}, {\"cloudy\": \"11\", \"date\": \"2023-08-09\"}, {\"cloudy\": \"42\", \"date\": \"2023-08-14\"}, {\"cloudy\": \"32\", \"date\": \"2023-08-19\"}, {\"cloudy\": \"78\", \"date\": \"2023-08-24\"}, {\"cloudy\": \"0\", \"date\": \"2023-08-29\"}, {\"cloudy\": \"3\", \"date\": \"2023-09-03\"}, {\"cloudy\": \"23\", \"date\": \"2023-09-08\"}, {\"cloudy\": \"2\", \"date\": \"2023-09-13\"}, {\"cloudy\": \"42\", \"date\": \"2023-09-18\"}, {\"cloudy\": \"1\", \"date\": \"2023-09-23\"}, {\"cloudy\": \"5\", \"date\": \"2023-09-28\"}, {\"cloudy\": \"17\", \"date\": \"2023-10-03\"}, {\"cloudy\": \"97\", \"date\": \"2023-10-08\"}, {\"cloudy\": \"10\", \"date\": \"2023-10-13\"}, {\"cloudy\": \"9\", \"date\": \"2023-10-18\"}, {\"cloudy\": \"20\", \"date\": \"2023-10-23\"}, {\"cloudy\": \"8\", \"date\": \"2023-10-28\"}, {\"cloudy\": \"51\", \"date\": \"2023-11-02\"}, {\"cloudy\": \"10\", \"date\": \"2023-11-07\"}, {\"cloudy\": \"78\", \"date\": \"2023-11-12\"}, {\"cloudy\": \"0\", \"date\": \"2023-11-17\"}, {\"cloudy\": \"95\", \"date\": \"2023-11-22\"}, {\"cloudy\": \"70\", \"date\": \"2023-11-27\"}, {\"cloudy\": \"79\", \"date\": \"2023-12-02\"}, {\"cloudy\": \"78\", \"date\": \"2023-12-07\"}, {\"cloudy\": \"53\", \"date\": \"2023-12-12\"}, {\"cloudy\": \"11\", \"date\": \"2023-12-17\"}, {\"cloudy\": \"11\", \"date\": \"2023-12-22\"}, {\"cloudy\": \"99\", \"date\": \"2023-12-27\"}, {\"cloudy\": \"0\", \"date\": \"2024-01-01\"}, {\"cloudy\": \"10\", \"date\": \"2024-01-06\"}, {\"cloudy\": \"16\", \"date\": \"2024-01-11\"}, {\"cloudy\": \"36\", \"date\": \"2024-01-16\"}, {\"cloudy\": \"84\", \"date\": \"2024-01-21\"}, {\"cloudy\": \"2\", \"date\": \"2024-01-26\"}, {\"cloudy\": \"17\", \"date\": \"2024-01-31\"}, {\"cloudy\": \"18\", \"date\": \"2024-02-05\"}, {\"cloudy\": \"1\", \"date\": \"2024-02-10\"}, {\"cloudy\": \"4\", \"date\": \"2024-02-15\"}, {\"cloudy\": \"0\", \"date\": \"2024-02-20\"}, {\"cloudy\": \"11\", \"date\": \"2024-02-25\"}, {\"cloudy\": \"21\", \"date\": \"2024-03-01\"}, {\"cloudy\": \"4\", \"date\": \"2024-03-06\"}, {\"cloudy\": \"34\", \"date\": \"2024-03-11\"}, {\"cloudy\": \"16\", \"date\": \"2024-03-16\"}, {\"cloudy\": \"0\", \"date\": \"2024-03-21\"}, {\"cloudy\": \"3\", \"date\": \"2024-03-26\"}, {\"cloudy\": \"1\", \"date\": \"2024-03-31\"}, {\"cloudy\": \"2\", \"date\": \"2024-04-05\"}, {\"cloudy\": \"2\", \"date\": \"2024-04-10\"}, {\"cloudy\": \"1\", \"date\": \"2024-04-15\"}, {\"cloudy\": \"22\", \"date\": \"2024-04-20\"}, {\"cloudy\": \"16\", \"date\": \"2024-04-25\"}, {\"cloudy\": \"9\", \"date\": \"2024-04-30\"}, {\"cloudy\": \"7\", \"date\": \"2024-05-05\"}, {\"cloudy\": \"31\", \"date\": \"2024-05-10\"}, {\"cloudy\": \"18\", \"date\": \"2024-05-15\"}, {\"cloudy\": \"4\", \"date\": \"2024-05-20\"}, {\"cloudy\": \"1\", \"date\": \"2024-05-25\"}]'"
      ]
     },
     "execution_count": 5,
     "metadata": {},
     "output_type": "execute_result"
    }
   ],
   "source": [
    "roi = ee.Geometry.Polygon(coords)\n",
    "\n",
    "collection = (ee.ImageCollection(image_collection)\n",
    "              .filterBounds(roi)\n",
    "              .filterDate(from_date, to_date))\n",
    "\n",
    "# image = collection.first()\n",
    "# print( image.getInfo())\n",
    "\n",
    "images = collection.toList(collection.size()).map(lambda image: get_info(ee.Image(image)))\n",
    "\n",
    "response = json.dumps(images.getInfo())\n",
    "\n",
    "response"
   ]
  }
 ],
 "metadata": {
  "kernelspec": {
   "display_name": "venv",
   "language": "python",
   "name": "python3"
  },
  "language_info": {
   "codemirror_mode": {
    "name": "ipython",
    "version": 3
   },
   "file_extension": ".py",
   "mimetype": "text/x-python",
   "name": "python",
   "nbconvert_exporter": "python",
   "pygments_lexer": "ipython3",
   "version": "3.12.4"
  }
 },
 "nbformat": 4,
 "nbformat_minor": 2
}
